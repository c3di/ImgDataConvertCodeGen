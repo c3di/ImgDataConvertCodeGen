{
 "cells": [
  {
   "cell_type": "markdown",
   "id": "8d866c4b-5863-4852-bdb9-73e2b3ee33b2",
   "metadata": {},
   "source": [
    "# Profiling Knowledge Graph Construction"
   ]
  },
  {
   "cell_type": "code",
   "execution_count": 1,
   "id": "3082f080",
   "metadata": {},
   "outputs": [],
   "source": [
    "import os\n",
    "import sys\n",
    "\n",
    "# Assume the current working directory is where the this notebook file is located \n",
    "project_dir = os.path.dirname(os.getcwd())\n",
    "if project_dir not in sys.path:\n",
    "    sys.path.append(os.path.join(project_dir, \"src\"))\n",
    "# Alternatively you can install package directly from the Pypi. \n",
    "# %pip install imgdataconvertcodegen"
   ]
  },
  {
   "cell_type": "code",
   "execution_count": 2,
   "id": "998dadd7-aba4-4ca2-8276-69be6665fdbb",
   "metadata": {},
   "outputs": [
    {
     "name": "stderr",
     "output_type": "stream",
     "text": [
      "2024-04-09 14:35:07.328473: I tensorflow/core/platform/cpu_feature_guard.cc:210] This TensorFlow binary is optimized to use available CPU instructions in performance-critical operations.\n",
      "To enable the following instructions: AVX2 FMA, in other operations, rebuild TensorFlow with the appropriate compiler flags.\n",
      "2024-04-09 14:35:08.153964: W tensorflow/compiler/tf2tensorrt/utils/py_utils.cc:38] TF-TRT Warning: Could not find TensorRT\n"
     ]
    },
    {
     "name": "stdout",
     "output_type": "stream",
     "text": [
      "8 factories clusters, 62 factories in total,  8 manual edge creation.\n"
     ]
    }
   ],
   "source": [
    "from imgdataconvertcodegen.knowledge_graph_construction import (metadata_values, factories_clusters,\n",
    "                                                                list_of_conversion_for_metadata_pair,\n",
    "                                                                KnowledgeGraphConstructor)\n",
    "\n",
    "print(f\"{len(factories_clusters)} factories clusters, \"\n",
    "      f\"{sum([len(cluster[1]) for cluster in factories_clusters])} factories in total, \",\n",
    "      f\"{len(list_of_conversion_for_metadata_pair)} manual edge creation.\")"
   ]
  },
  {
   "cell_type": "code",
   "execution_count": 3,
   "id": "458fcc50-38a6-42a5-b556-d4e36e99cea4",
   "metadata": {},
   "outputs": [
    {
     "name": "stdout",
     "output_type": "stream",
     "text": [
      "Construct Knowledge graph from the scratch\n",
      "Knowledge Graph with 553 nodes and 6472 edges.\n",
      "\n",
      "         3014229 function calls (3014192 primitive calls) in 1.488 seconds\n",
      "\n",
      "   Ordered by: internal time\n",
      "   List reduced from 349 to 3 due to restriction <3>\n",
      "\n",
      "   ncalls  tottime  percall  cumtime  percall filename:lineno(function)\n",
      "    80640    0.265    0.000    1.425    0.000 /mnt/d/ImgDataConvertCodeGen/src/imgdataconvertcodegen/knowledge_graph_construction/constructor.py:76(_create_edge)\n",
      "   184464    0.148    0.000    0.174    0.000 /mnt/d/ImgDataConvertCodeGen/src/imgdataconvertcodegen/knowledge_graph_construction/edge_factories/Tensorflow.py:5(is_attribute_value_valid_for_tensorflow)\n",
      "   123792    0.116    0.000    0.134    0.000 /mnt/d/ImgDataConvertCodeGen/src/imgdataconvertcodegen/knowledge_graph_construction/edge_factories/PIL.py:5(is_attribute_value_valid_for_pil)\n",
      "\n",
      "\n"
     ]
    }
   ],
   "source": [
    "import cProfile\n",
    "import pstats\n",
    "\n",
    "print(\"Construct Knowledge graph from the scratch\")\n",
    "constructor = KnowledgeGraphConstructor(metadata_values, factories_clusters, list_of_conversion_for_metadata_pair)\n",
    "with cProfile.Profile() as profile:\n",
    "    constructor.build_from_scratch()\n",
    "    results = pstats.Stats(profile)\n",
    "    results.sort_stats(pstats.SortKey.TIME)\n",
    "    print(f\"{constructor.knowledge_graph}\\n\")\n",
    "    results.print_stats(3)"
   ]
  },
  {
   "cell_type": "code",
   "execution_count": 4,
   "id": "d8ffcf3d-40ad-4d56-8c36-94a960c6e252",
   "metadata": {},
   "outputs": [
    {
     "name": "stdout",
     "output_type": "stream",
     "text": [
      "Construct Knowledge graph via loading from the file\n",
      "Knowledge Graph with 553 nodes and 6472 edges.\n",
      "         43656 function calls (43641 primitive calls) in 0.142 seconds\n",
      "\n",
      "   Ordered by: internal time\n",
      "   List reduced from 210 to 3 due to restriction <3>\n",
      "\n",
      "   ncalls  tottime  percall  cumtime  percall filename:lineno(function)\n",
      "        1    0.076    0.076    0.076    0.076 {built-in method _io.open}\n",
      "        2    0.016    0.008    0.016    0.008 {method '__exit__' of 'sqlite3.Connection' objects}\n",
      "        1    0.011    0.011    0.025    0.025 /home/fei/miniconda3/envs/tf-wsl/lib/python3.12/site-packages/networkx/readwrite/json_graph/node_link.py:135(node_link_graph)\n",
      "\n",
      "\n"
     ]
    }
   ],
   "source": [
    "print(\"Construct Knowledge graph via loading from the file\")\n",
    "with cProfile.Profile() as profile:\n",
    "    constructor.load_knowledge_graph_from(constructor._know_graph_file_path)\n",
    "    results = pstats.Stats(profile)\n",
    "    results.sort_stats(pstats.SortKey.TIME)\n",
    "    print(constructor.knowledge_graph)\n",
    "    results.print_stats(3)"
   ]
  }
 ],
 "metadata": {
  "kernelspec": {
   "display_name": "Python 3 (ipykernel)",
   "language": "python",
   "name": "python3"
  },
  "language_info": {
   "codemirror_mode": {
    "name": "ipython",
    "version": 3
   },
   "file_extension": ".py",
   "mimetype": "text/x-python",
   "name": "python",
   "nbconvert_exporter": "python",
   "pygments_lexer": "ipython3",
   "version": "3.12.2"
  }
 },
 "nbformat": 4,
 "nbformat_minor": 5
}
