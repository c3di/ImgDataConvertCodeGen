{
 "cells": [
  {
   "cell_type": "markdown",
   "id": "5d69784d-b95f-4f3a-9102-93281d6ab35e",
   "metadata": {},
   "source": [
    "# Execution Speed"
   ]
  },
  {
   "cell_type": "code",
   "execution_count": 1,
   "id": "28514e2d-2ccf-4243-9a45-1b2a3e03b3e0",
   "metadata": {},
   "outputs": [],
   "source": [
    "from datetime import datetime\n",
    "from src.imgdataconvertcodegen import get_execution_time"
   ]
  },
  {
   "cell_type": "markdown",
   "id": "724e1f23-b162-4619-b8f5-064a8240491a",
   "metadata": {},
   "source": [
    "## Knowledge Graph Construction"
   ]
  },
  {
   "cell_type": "markdown",
   "id": "e2475744-2522-4113-bf82-bb7bd6a744b7",
   "metadata": {},
   "source": [
    "### build from the scratch"
   ]
  },
  {
   "cell_type": "code",
   "execution_count": 2,
   "id": "8efdbe58-1939-4b9e-8978-0e991f70f3e9",
   "metadata": {},
   "outputs": [
    {
     "name": "stdout",
     "output_type": "stream",
     "text": [
      "There are 4 factory to use to construct the knowledge graph.\n",
      "Knowledge Graph with 3960 nodes and 6402 edges.\n",
      "The execution time is 0 days, 0 hours, 0 minutes, and 8.069446 seconds.\n"
     ]
    }
   ],
   "source": [
    "from src.imgdataconvertcodegen import _builder\n",
    "\n",
    "print(f'There are {len(_builder._edge_factories)} factory to use to construct the knowledge graph.')\n",
    "begin_time = datetime.now()\n",
    "_builder.build_from_scratch(_builder._edge_factories)\n",
    "end_time = datetime.now()\n",
    "print(_builder.knowledge_graph)\n",
    "print(get_execution_time(begin_time, end_time))"
   ]
  },
  {
   "cell_type": "markdown",
   "id": "5a016080-32b3-435d-a612-c781405e3810",
   "metadata": {},
   "source": [
    "### load from the graph"
   ]
  },
  {
   "cell_type": "code",
   "execution_count": 3,
   "id": "b60d6780-03d8-4bdb-b4cd-868d6f4c93f0",
   "metadata": {},
   "outputs": [
    {
     "name": "stdout",
     "output_type": "stream",
     "text": [
      "Knowledge Graph with 3960 nodes and 6402 edges.\n",
      "The execution time is 0 days, 0 hours, 0 minutes, and 0.376994 seconds.\n"
     ]
    }
   ],
   "source": [
    "begin_time = datetime.now()\n",
    "_builder.build_from_file(_builder._know_graph_file_path)\n",
    "end_time = datetime.now()\n",
    "print(_builder.knowledge_graph)\n",
    "print(get_execution_time(begin_time, end_time))"
   ]
  },
  {
   "cell_type": "markdown",
   "id": "5c46698f-9b95-4771-9a6f-e253c59087c1",
   "metadata": {},
   "source": [
    "## Get Conversion Code with metadata as input"
   ]
  },
  {
   "cell_type": "code",
   "execution_count": 4,
   "id": "e2e2176d-a7be-4900-b23a-5f506787af34",
   "metadata": {},
   "outputs": [
    {
     "name": "stdout",
     "output_type": "stream",
     "text": [
      "The imports code is: \n",
      "import torch\n",
      "\n",
      "The conversion code is: \n",
      "var_474dfed778794785a1f5124d5b37f1f7 = torch.from_numpy(input)\n",
      "var_7b06cb65d8994319b59a48267c2714a1 = var_474dfed778794785a1f5124d5b37f1f7.permute(2, 0, 1)\n",
      "output = torch.unsqueeze(var_7b06cb65d8994319b59a48267c2714a1, 0)\n",
      "The execution time is 0 days, 0 hours, 0 minutes, and 0.001995 seconds.\n"
     ]
    }
   ],
   "source": [
    "from src.imgdataconvertcodegen import get_conversion\n",
    "\n",
    "start_time = datetime.now()\n",
    "source_metadata = {\n",
    "    \"data_representation\": \"numpy.ndarray\",\n",
    "    \"color_channel\": \"rgb\",\n",
    "    \"channel_order\": \"channel last\",\n",
    "    \"minibatch_input\": False,\n",
    "    \"data_type\": \"uint8\",\n",
    "    \"intensity_range\": \"full\",\n",
    "    \"device\": \"cpu\"\n",
    "}\n",
    "target_metadata = {\n",
    "    \"data_representation\": \"torch.tensor\",\n",
    "    \"color_channel\": \"rgb\",\n",
    "    \"channel_order\": \"channel first\",\n",
    "    \"minibatch_input\": True,\n",
    "    \"data_type\": \"uint8\",\n",
    "    \"intensity_range\": \"full\",\n",
    "    \"device\": \"cpu\"\n",
    "}\n",
    "conversion = get_conversion(\"input\", source_metadata, \"output\", target_metadata)\n",
    "end_time = datetime.now()\n",
    "print(f\"The imports code is: \\n{conversion[0]}\\n\")\n",
    "print(f\"The conversion code is: \\n{conversion[1]}\")\n",
    "print(get_execution_time(start_time, end_time))"
   ]
  },
  {
   "cell_type": "markdown",
   "id": "fb064c3a-d861-400d-b4c2-065eabbb8005",
   "metadata": {},
   "source": [
    "## Get Conversion Code with library name as input"
   ]
  },
  {
   "cell_type": "code",
   "execution_count": 5,
   "id": "11e13516-7a90-4820-a8c2-d508f7b825de",
   "metadata": {},
   "outputs": [
    {
     "name": "stdout",
     "output_type": "stream",
     "text": [
      "The imports code is: \n",
      "import torch\n",
      "\n",
      "The conversion code is: \n",
      "var_5480671bcd57441ab016343f0e771c13 = torch.from_numpy(input)\n",
      "var_cd626dfb61ed4fe1a9ee4227c3bc0b88 = var_5480671bcd57441ab016343f0e771c13.permute(2, 0, 1)\n",
      "output = torch.unsqueeze(var_cd626dfb61ed4fe1a9ee4227c3bc0b88, 0)\n",
      "The execution time is 0 days, 0 hours, 0 minutes, and 0.0 seconds.\n"
     ]
    }
   ],
   "source": [
    "# todo, meansure convert_code not in the cache\n",
    "start_time = datetime.now()\n",
    "conversion_using_lib_name = get_conversion(\"input\", 'scikit-image', \"output\", 'torch', 'color', 'color')\n",
    "end_time = datetime.now()\n",
    "print(f\"The imports code is: \\n{conversion_using_lib_name[0]}\\n\")\n",
    "print(f\"The conversion code is: \\n{conversion_using_lib_name[1]}\")\n",
    "print(get_execution_time(start_time, end_time))"
   ]
  },
  {
   "cell_type": "markdown",
   "id": "a715dbb1-9c08-4e2c-ac8b-f9b383ade3b0",
   "metadata": {},
   "source": [
    "## Get Conversion Path"
   ]
  },
  {
   "cell_type": "code",
   "execution_count": 6,
   "id": "5890207c-e7b6-45f6-94f3-1191fba61a75",
   "metadata": {},
   "outputs": [
    {
     "name": "stdout",
     "output_type": "stream",
     "text": [
      "the path is:\n",
      "\t{'data_representation': 'numpy.ndarray', 'color_channel': 'rgb', 'channel_order': 'channel last', 'minibatch_input': False, 'data_type': 'uint8', 'intensity_range': 'full', 'device': 'cpu'}\n",
      "\t{'data_representation': 'torch.tensor', 'color_channel': 'rgb', 'channel_order': 'channel last', 'minibatch_input': False, 'data_type': 'uint8', 'intensity_range': 'full', 'device': 'cpu'}\n",
      "\t{'data_representation': 'torch.tensor', 'color_channel': 'rgb', 'channel_order': 'channel first', 'minibatch_input': False, 'data_type': 'uint8', 'intensity_range': 'full', 'device': 'cpu'}\n",
      "\t{'data_representation': 'torch.tensor', 'color_channel': 'rgb', 'channel_order': 'channel first', 'minibatch_input': True, 'data_type': 'uint8', 'intensity_range': 'full', 'device': 'cpu'}\n",
      "The execution time is 0 days, 0 hours, 0 minutes, and 0.001994 seconds.\n"
     ]
    }
   ],
   "source": [
    "from src.imgdataconvertcodegen import get_convert_path\n",
    "start_time = datetime.now()\n",
    "path = get_convert_path(source_metadata, target_metadata)\n",
    "end_time = datetime.now()\n",
    "print(\"the path is:\")\n",
    "for metadata in path:\n",
    "    print(f'\\t{metadata}')\n",
    "print(get_execution_time(start_time, end_time))"
   ]
  },
  {
   "cell_type": "markdown",
   "id": "4ac21055-324e-4178-bdfc-aaaa985c436e",
   "metadata": {},
   "source": [
    "## Convert Image Data"
   ]
  },
  {
   "cell_type": "code",
   "execution_count": 7,
   "id": "fb7395fa-08fe-41c3-978e-6947b8b142b6",
   "metadata": {},
   "outputs": [
    {
     "name": "stdout",
     "output_type": "stream",
     "text": [
      "The execution time is 0 days, 0 hours, 0 minutes, and 0.0 seconds.\n"
     ]
    }
   ],
   "source": [
    "import numpy as np\n",
    "import torch\n",
    "\n",
    "start_time = datetime.now()\n",
    "source_image = np.random.randint(0, 256, (20, 20, 3), dtype=np.uint8)\n",
    "expected_image = torch.from_numpy(source_image).unsqueeze(0).permute(0, 3, 1, 2)\n",
    "code = get_conversion(\"source_image\", source_metadata, \"actual_image\", target_metadata)\n",
    "exec(code[1])\n",
    "end_time = datetime.now()\n",
    "print(get_execution_time(start_time, end_time))"
   ]
  },
  {
   "cell_type": "markdown",
   "id": "30274281-cb66-4073-bb7f-fb8be9ff46aa",
   "metadata": {},
   "source": [
    "## Add new Metadata spec"
   ]
  },
  {
   "cell_type": "code",
   "execution_count": 8,
   "id": "07115141-de31-4155-9db5-b9b87e89cb7b",
   "metadata": {},
   "outputs": [
    {
     "name": "stdout",
     "output_type": "stream",
     "text": [
      "The execution time is 0 days, 0 hours, 0 minutes, and 0.072806 seconds.\n"
     ]
    }
   ],
   "source": [
    "from src.imgdataconvertcodegen import add_image_metadata\n",
    "start_time = datetime.now()\n",
    "add_image_metadata({\n",
    "    \"data_representation\": \"PIL.Image\",\n",
    "    \"color_channel\": \"rgb\",\n",
    "    \"channel_order\": \"channel last\",\n",
    "    \"minibatch_input\": False,\n",
    "    \"data_type\": \"uint8\",\n",
    "    \"intensity_range\": \"0to255\",\n",
    "    \"device\": \"cpu\"\n",
    "})\n",
    "end_time = datetime.now()\n",
    "print(get_execution_time(start_time, end_time))"
   ]
  },
  {
   "cell_type": "markdown",
   "id": "5ff0b659-40b4-4d76-8309-90d50eeae0a0",
   "metadata": {},
   "source": [
    "## Add a new factory"
   ]
  },
  {
   "cell_type": "code",
   "execution_count": 9,
   "id": "7b6d83b5-fbc1-46c0-a5bd-6e6f6694c14a",
   "metadata": {},
   "outputs": [
    {
     "name": "stdout",
     "output_type": "stream",
     "text": [
      "The execution time is 0 days, 0 hours, 0 minutes, and 4.512945 seconds.\n"
     ]
    }
   ],
   "source": [
    "from src.imgdataconvertcodegen import add_convert_code_factory\n",
    "\n",
    "def convert_torch_to_numpy(source, target):\n",
    "    if source[\"data_representation\"] == \"torch.tensor\" and target[\"data_representation\"] == \"numpy.ndarray\":\n",
    "        return '', f\"actual_image = source_image.numpy()\"\n",
    "    return None\n",
    "\n",
    "start_time = datetime.now()\n",
    "# the graph will be rebuilt using this new factory\n",
    "add_convert_code_factory(convert_torch_to_numpy)\n",
    "end_time = datetime.now()\n",
    "print(get_execution_time(start_time, end_time))"
   ]
  },
  {
   "cell_type": "markdown",
   "id": "c8954afc-587a-4e14-8755-adba3df9f207",
   "metadata": {},
   "source": [
    "## Add a new librariy metadata preset"
   ]
  },
  {
   "cell_type": "code",
   "execution_count": 10,
   "id": "36a98bea-9af7-45a0-8ba6-b1b63f4ce83c",
   "metadata": {
    "scrolled": true
   },
   "outputs": [
    {
     "name": "stdout",
     "output_type": "stream",
     "text": [
      "The execution time is 0 days, 0 hours, 0 minutes, and 0.0 seconds.\n"
     ]
    }
   ],
   "source": [
    "from src.imgdataconvertcodegen import add_new_lib_preset\n",
    "\n",
    "start_time = datetime.now()\n",
    "add_new_lib_preset(\"PIL.image\", 'color', {\n",
    "    \"data_representation\": \"PIL.Image\",\n",
    "    \"color_channel\": \"rgb\",\n",
    "    \"channel_order\": \"channel last\",\n",
    "    \"minibatch_input\": False,\n",
    "    \"data_type\": \"uint8\",\n",
    "    \"intensity_range\": \"0to255\",\n",
    "    \"device\": \"cpu\"\n",
    "})\n",
    "end_time = datetime.now()\n",
    "print(get_execution_time(start_time, end_time))"
   ]
  }
 ],
 "metadata": {
  "kernelspec": {
   "display_name": "Python 3 (ipykernel)",
   "language": "python",
   "name": "python3"
  },
  "language_info": {
   "codemirror_mode": {
    "name": "ipython",
    "version": 3
   },
   "file_extension": ".py",
   "mimetype": "text/x-python",
   "name": "python",
   "nbconvert_exporter": "python",
   "pygments_lexer": "ipython3",
   "version": "3.12.0"
  }
 },
 "nbformat": 4,
 "nbformat_minor": 5
}
